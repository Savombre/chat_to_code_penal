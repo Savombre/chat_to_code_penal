{
 "cells": [
  {
   "cell_type": "markdown",
   "metadata": {},
   "source": [
    "# Langchain Démo"
   ]
  },
  {
   "cell_type": "markdown",
   "metadata": {},
   "source": [
    "## Chargement du document"
   ]
  },
  {
   "cell_type": "code",
   "execution_count": 1,
   "metadata": {},
   "outputs": [],
   "source": [
    "from langchain.document_loaders import PyPDFLoader"
   ]
  },
  {
   "cell_type": "code",
   "execution_count": 2,
   "metadata": {},
   "outputs": [],
   "source": [
    "loader = PyPDFLoader(\"uploads/code_penal.pdf\")\n",
    "code_penal = loader.load_and_split()"
   ]
  },
  {
   "cell_type": "markdown",
   "metadata": {},
   "source": [
    "Première page du code pénal : "
   ]
  },
  {
   "cell_type": "code",
   "execution_count": 3,
   "metadata": {},
   "outputs": [
    {
     "data": {
      "text/plain": [
       "Document(page_content=\"Code pénal - Dernière modification le 01 avril 2023 - Document généré le 15 avril 2023Code pénal\\nPartie législative\\nLivre Ier : Dispositions générales\\nTitre Ier : De la loi pénale\\nChapitre Ier : Des principes généraux\\nArticle 111-1\\n \\nLes infractions pénales sont classées, suivant leur gravité, en crimes, délits et contraventions.\\n \\n \\nArticle 111-2\\n \\nLa loi détermine les crimes et délits et fixe les peines applicables à leurs auteurs.\\n \\n \\nLe règlement détermine les contraventions et fixe, dans les limites et selon les distinctions établies par la loi,\\nles peines applicables aux contrevenants.\\n \\nArticle 111-3\\n \\nNul ne peut être puni pour un crime ou pour un délit dont les éléments ne sont pas définis par la loi, ou pour\\nune contravention dont les éléments ne sont pas définis par le règlement.\\n \\n \\nNul ne peut être puni d'une peine qui n'est pas prévue par la loi, si l'infraction est un crime ou un délit, ou par\\nle règlement, si l'infraction est une contravention.\\n \\nArticle 111-4\\n \\nLa loi pénale est d'interprétation stricte.\\n \\n \\nArticle 111-5\", metadata={'source': 'uploads/code_penal.pdf', 'page': 0})"
      ]
     },
     "execution_count": 3,
     "metadata": {},
     "output_type": "execute_result"
    }
   ],
   "source": [
    "code_penal[0]"
   ]
  },
  {
   "cell_type": "markdown",
   "metadata": {},
   "source": [
    "## Découpage du document"
   ]
  },
  {
   "cell_type": "code",
   "execution_count": 4,
   "metadata": {},
   "outputs": [],
   "source": [
    "from langchain.text_splitter import CharacterTextSplitter"
   ]
  },
  {
   "cell_type": "code",
   "execution_count": 5,
   "metadata": {},
   "outputs": [],
   "source": [
    "article_splitter = CharacterTextSplitter(\n",
    "    separator = \"\\nArticle\",\n",
    "    chunk_size = 1000,\n",
    "    chunk_overlap  = 0,\n",
    "    length_function = len,\n",
    "    is_separator_regex = False,\n",
    ")"
   ]
  },
  {
   "cell_type": "code",
   "execution_count": 6,
   "metadata": {},
   "outputs": [
    {
     "name": "stderr",
     "output_type": "stream",
     "text": [
      "Created a chunk of size 1069, which is longer than the specified 1000\n",
      "Created a chunk of size 1510, which is longer than the specified 1000\n",
      "Created a chunk of size 1344, which is longer than the specified 1000\n",
      "Created a chunk of size 1040, which is longer than the specified 1000\n",
      "Created a chunk of size 1595, which is longer than the specified 1000\n",
      "Created a chunk of size 1491, which is longer than the specified 1000\n",
      "Created a chunk of size 3166, which is longer than the specified 1000\n",
      "Created a chunk of size 1632, which is longer than the specified 1000\n",
      "Created a chunk of size 1417, which is longer than the specified 1000\n",
      "Created a chunk of size 1306, which is longer than the specified 1000\n",
      "Created a chunk of size 1584, which is longer than the specified 1000\n",
      "Created a chunk of size 2509, which is longer than the specified 1000\n",
      "Created a chunk of size 1523, which is longer than the specified 1000\n",
      "Created a chunk of size 1049, which is longer than the specified 1000\n",
      "Created a chunk of size 2083, which is longer than the specified 1000\n",
      "Created a chunk of size 1436, which is longer than the specified 1000\n",
      "Created a chunk of size 1395, which is longer than the specified 1000\n",
      "Created a chunk of size 1906, which is longer than the specified 1000\n",
      "Created a chunk of size 2462, which is longer than the specified 1000\n",
      "Created a chunk of size 2970, which is longer than the specified 1000\n",
      "Created a chunk of size 1245, which is longer than the specified 1000\n",
      "Created a chunk of size 1318, which is longer than the specified 1000\n",
      "Created a chunk of size 1534, which is longer than the specified 1000\n",
      "Created a chunk of size 1059, which is longer than the specified 1000\n",
      "Created a chunk of size 3186, which is longer than the specified 1000\n",
      "Created a chunk of size 1634, which is longer than the specified 1000\n",
      "Created a chunk of size 1175, which is longer than the specified 1000\n",
      "Created a chunk of size 2006, which is longer than the specified 1000\n",
      "Created a chunk of size 1247, which is longer than the specified 1000\n",
      "Created a chunk of size 1605, which is longer than the specified 1000\n",
      "Created a chunk of size 1114, which is longer than the specified 1000\n",
      "Created a chunk of size 1677, which is longer than the specified 1000\n",
      "Created a chunk of size 1538, which is longer than the specified 1000\n",
      "Created a chunk of size 1537, which is longer than the specified 1000\n",
      "Created a chunk of size 1170, which is longer than the specified 1000\n",
      "Created a chunk of size 1976, which is longer than the specified 1000\n",
      "Created a chunk of size 1817, which is longer than the specified 1000\n",
      "Created a chunk of size 2193, which is longer than the specified 1000\n",
      "Created a chunk of size 1509, which is longer than the specified 1000\n",
      "Created a chunk of size 3270, which is longer than the specified 1000\n",
      "Created a chunk of size 1670, which is longer than the specified 1000\n",
      "Created a chunk of size 1581, which is longer than the specified 1000\n",
      "Created a chunk of size 1253, which is longer than the specified 1000\n",
      "Created a chunk of size 1210, which is longer than the specified 1000\n",
      "Created a chunk of size 1331, which is longer than the specified 1000\n",
      "Created a chunk of size 1303, which is longer than the specified 1000\n",
      "Created a chunk of size 1950, which is longer than the specified 1000\n",
      "Created a chunk of size 2158, which is longer than the specified 1000\n",
      "Created a chunk of size 1425, which is longer than the specified 1000\n",
      "Created a chunk of size 1038, which is longer than the specified 1000\n",
      "Created a chunk of size 1386, which is longer than the specified 1000\n",
      "Created a chunk of size 1070, which is longer than the specified 1000\n",
      "Created a chunk of size 1200, which is longer than the specified 1000\n",
      "Created a chunk of size 1146, which is longer than the specified 1000\n",
      "Created a chunk of size 1701, which is longer than the specified 1000\n",
      "Created a chunk of size 1589, which is longer than the specified 1000\n",
      "Created a chunk of size 1562, which is longer than the specified 1000\n",
      "Created a chunk of size 1223, which is longer than the specified 1000\n",
      "Created a chunk of size 1359, which is longer than the specified 1000\n",
      "Created a chunk of size 1052, which is longer than the specified 1000\n",
      "Created a chunk of size 1381, which is longer than the specified 1000\n",
      "Created a chunk of size 1040, which is longer than the specified 1000\n",
      "Created a chunk of size 1635, which is longer than the specified 1000\n",
      "Created a chunk of size 1857, which is longer than the specified 1000\n",
      "Created a chunk of size 2377, which is longer than the specified 1000\n",
      "Created a chunk of size 1820, which is longer than the specified 1000\n",
      "Created a chunk of size 1320, which is longer than the specified 1000\n",
      "Created a chunk of size 1179, which is longer than the specified 1000\n",
      "Created a chunk of size 1309, which is longer than the specified 1000\n",
      "Created a chunk of size 1012, which is longer than the specified 1000\n",
      "Created a chunk of size 1113, which is longer than the specified 1000\n",
      "Created a chunk of size 1227, which is longer than the specified 1000\n",
      "Created a chunk of size 1506, which is longer than the specified 1000\n",
      "Created a chunk of size 1343, which is longer than the specified 1000\n",
      "Created a chunk of size 2020, which is longer than the specified 1000\n",
      "Created a chunk of size 1154, which is longer than the specified 1000\n",
      "Created a chunk of size 2682, which is longer than the specified 1000\n",
      "Created a chunk of size 1076, which is longer than the specified 1000\n",
      "Created a chunk of size 1012, which is longer than the specified 1000\n",
      "Created a chunk of size 1246, which is longer than the specified 1000\n",
      "Created a chunk of size 1789, which is longer than the specified 1000\n",
      "Created a chunk of size 1130, which is longer than the specified 1000\n",
      "Created a chunk of size 1478, which is longer than the specified 1000\n",
      "Created a chunk of size 1966, which is longer than the specified 1000\n",
      "Created a chunk of size 1025, which is longer than the specified 1000\n",
      "Created a chunk of size 2025, which is longer than the specified 1000\n",
      "Created a chunk of size 1278, which is longer than the specified 1000\n",
      "Created a chunk of size 1985, which is longer than the specified 1000\n",
      "Created a chunk of size 1432, which is longer than the specified 1000\n",
      "Created a chunk of size 1141, which is longer than the specified 1000\n",
      "Created a chunk of size 1030, which is longer than the specified 1000\n",
      "Created a chunk of size 1039, which is longer than the specified 1000\n",
      "Created a chunk of size 2832, which is longer than the specified 1000\n",
      "Created a chunk of size 1247, which is longer than the specified 1000\n",
      "Created a chunk of size 1852, which is longer than the specified 1000\n",
      "Created a chunk of size 1441, which is longer than the specified 1000\n",
      "Created a chunk of size 1200, which is longer than the specified 1000\n",
      "Created a chunk of size 1260, which is longer than the specified 1000\n",
      "Created a chunk of size 2623, which is longer than the specified 1000\n",
      "Created a chunk of size 1373, which is longer than the specified 1000\n",
      "Created a chunk of size 1763, which is longer than the specified 1000\n",
      "Created a chunk of size 1052, which is longer than the specified 1000\n",
      "Created a chunk of size 1078, which is longer than the specified 1000\n",
      "Created a chunk of size 1151, which is longer than the specified 1000\n",
      "Created a chunk of size 2240, which is longer than the specified 1000\n",
      "Created a chunk of size 1707, which is longer than the specified 1000\n",
      "Created a chunk of size 1342, which is longer than the specified 1000\n",
      "Created a chunk of size 1208, which is longer than the specified 1000\n",
      "Created a chunk of size 1406, which is longer than the specified 1000\n",
      "Created a chunk of size 1126, which is longer than the specified 1000\n",
      "Created a chunk of size 1019, which is longer than the specified 1000\n",
      "Created a chunk of size 1016, which is longer than the specified 1000\n",
      "Created a chunk of size 1653, which is longer than the specified 1000\n",
      "Created a chunk of size 1042, which is longer than the specified 1000\n",
      "Created a chunk of size 1030, which is longer than the specified 1000\n",
      "Created a chunk of size 1373, which is longer than the specified 1000\n",
      "Created a chunk of size 1334, which is longer than the specified 1000\n",
      "Created a chunk of size 1136, which is longer than the specified 1000\n",
      "Created a chunk of size 1327, which is longer than the specified 1000\n",
      "Created a chunk of size 1131, which is longer than the specified 1000\n",
      "Created a chunk of size 1179, which is longer than the specified 1000\n",
      "Created a chunk of size 1028, which is longer than the specified 1000\n",
      "Created a chunk of size 1093, which is longer than the specified 1000\n",
      "Created a chunk of size 1202, which is longer than the specified 1000\n",
      "Created a chunk of size 1504, which is longer than the specified 1000\n",
      "Created a chunk of size 1232, which is longer than the specified 1000\n",
      "Created a chunk of size 1120, which is longer than the specified 1000\n",
      "Created a chunk of size 1494, which is longer than the specified 1000\n",
      "Created a chunk of size 1344, which is longer than the specified 1000\n",
      "Created a chunk of size 3314, which is longer than the specified 1000\n",
      "Created a chunk of size 1765, which is longer than the specified 1000\n",
      "Created a chunk of size 1182, which is longer than the specified 1000\n",
      "Created a chunk of size 1080, which is longer than the specified 1000\n",
      "Created a chunk of size 1306, which is longer than the specified 1000\n",
      "Created a chunk of size 1039, which is longer than the specified 1000\n",
      "Created a chunk of size 1013, which is longer than the specified 1000\n",
      "Created a chunk of size 1097, which is longer than the specified 1000\n",
      "Created a chunk of size 1025, which is longer than the specified 1000\n",
      "Created a chunk of size 1038, which is longer than the specified 1000\n",
      "Created a chunk of size 1281, which is longer than the specified 1000\n",
      "Created a chunk of size 1119, which is longer than the specified 1000\n",
      "Created a chunk of size 1045, which is longer than the specified 1000\n",
      "Created a chunk of size 1439, which is longer than the specified 1000\n",
      "Created a chunk of size 1758, which is longer than the specified 1000\n",
      "Created a chunk of size 1149, which is longer than the specified 1000\n",
      "Created a chunk of size 1473, which is longer than the specified 1000\n",
      "Created a chunk of size 1138, which is longer than the specified 1000\n",
      "Created a chunk of size 1294, which is longer than the specified 1000\n",
      "Created a chunk of size 1019, which is longer than the specified 1000\n",
      "Created a chunk of size 1031, which is longer than the specified 1000\n",
      "Created a chunk of size 1023, which is longer than the specified 1000\n",
      "Created a chunk of size 1112, which is longer than the specified 1000\n",
      "Created a chunk of size 1126, which is longer than the specified 1000\n"
     ]
    }
   ],
   "source": [
    "articles = article_splitter.split_documents(code_penal)"
   ]
  },
  {
   "cell_type": "markdown",
   "metadata": {},
   "source": [
    "Apercu d'un article :"
   ]
  },
  {
   "cell_type": "code",
   "execution_count": 7,
   "metadata": {},
   "outputs": [
    {
     "data": {
      "text/plain": [
       "Document(page_content=\"112-3\\n \\nLes lois relatives à la nature et aux cas d'ouverture des voies de recours ainsi qu'aux délais dans lesquels elles\\ndoivent être exercées et à la qualité des personnes admises à se pourvoir sont applicables aux recours formés\", metadata={'source': 'uploads/code_penal.pdf', 'page': 1})"
      ]
     },
     "execution_count": 7,
     "metadata": {},
     "output_type": "execute_result"
    }
   ],
   "source": [
    "articles[4]"
   ]
  },
  {
   "cell_type": "markdown",
   "metadata": {},
   "source": [
    "Nombres approximatif d'articles :"
   ]
  },
  {
   "cell_type": "code",
   "execution_count": 8,
   "metadata": {},
   "outputs": [
    {
     "data": {
      "text/plain": [
       "1109"
      ]
     },
     "execution_count": 8,
     "metadata": {},
     "output_type": "execute_result"
    }
   ],
   "source": [
    "len(articles)"
   ]
  },
  {
   "cell_type": "code",
   "execution_count": 9,
   "metadata": {},
   "outputs": [],
   "source": [
    "articles_page_content = [article.page_content for article in articles]"
   ]
  },
  {
   "cell_type": "markdown",
   "metadata": {},
   "source": [
    "## Embedding du document"
   ]
  },
  {
   "cell_type": "code",
   "execution_count": 10,
   "metadata": {},
   "outputs": [],
   "source": [
    "import os\n",
    "from dotenv import load_dotenv, find_dotenv\n",
    "_ = load_dotenv(find_dotenv())\n"
   ]
  },
  {
   "cell_type": "code",
   "execution_count": 11,
   "metadata": {},
   "outputs": [],
   "source": [
    "openai_api_key = os.getenv(\"OPENAI_API_KEY\")"
   ]
  },
  {
   "cell_type": "code",
   "execution_count": 12,
   "metadata": {},
   "outputs": [],
   "source": [
    "from langchain.embeddings import OpenAIEmbeddings\n",
    "\n",
    "embeddings_model = OpenAIEmbeddings(openai_api_key=openai_api_key)"
   ]
  },
  {
   "cell_type": "code",
   "execution_count": 13,
   "metadata": {},
   "outputs": [],
   "source": [
    "#articles_embedded = embeddings_model.embed_documents(articles_page_content)"
   ]
  },
  {
   "cell_type": "markdown",
   "metadata": {},
   "source": [
    "## Vectorisation des articles"
   ]
  },
  {
   "cell_type": "code",
   "execution_count": 14,
   "metadata": {},
   "outputs": [],
   "source": [
    "from langchain.vectorstores import Chroma"
   ]
  },
  {
   "cell_type": "code",
   "execution_count": 15,
   "metadata": {},
   "outputs": [],
   "source": [
    "vector_db = Chroma.from_documents(articles,embeddings_model) "
   ]
  },
  {
   "cell_type": "markdown",
   "metadata": {},
   "source": [
    "## Requête à la bdd vectoriel"
   ]
  },
  {
   "cell_type": "code",
   "execution_count": 16,
   "metadata": {},
   "outputs": [
    {
     "name": "stdout",
     "output_type": "stream",
     "text": [
      "132-8\n",
      " \n",
      "Lorsqu'une personne physique, déjà condamnée définitivement pour un crime ou pour un délit puni de dix\n",
      "ans d'emprisonnement par la loi, commet un crime, le maximum de la peine de la réclusion criminelle ou de\n",
      "la détention criminelle est la perpétuité si le maximum fixé par la loi pour ce crime est de vingt ou trente ans.\n",
      "Le maximum de la peine est porté à trente ans de réclusion criminelle ou de détention criminelle si le crime\n",
      "est puni de quinze ans.\n",
      "------\n",
      "422-2\n",
      " \n",
      "La peine privative de liberté encourue par l'auteur ou le complice d'un acte de terrorisme est réduite de\n",
      "moitié si, ayant averti les autorités administratives ou judiciaires, il a permis de faire cesser les agissements\n",
      "incriminés ou d'éviter que l'infraction n'entraîne mort d'homme ou infirmité permanente et d'identifier, le cas\n",
      "échéant, les autres coupables. Lorsque la peine encourue est la réclusion criminelle à perpétuité, celle-ci est\n",
      "ramenée à vingt ans de réclusion criminelle.\n",
      "------\n",
      "221-2\n",
      " \n",
      "Le meurtre qui précède, accompagne ou suit un autre crime est puni de la réclusion criminelle à perpétuité.\n",
      "------\n",
      "221-3\n",
      " \n",
      "Le meurtre commis avec préméditation ou guet-apens constitue un assassinat. Il est puni de la réclusion\n",
      "criminelle à perpétuité.\n",
      " \n",
      "Les deux premiers alinéas de l'article 132-23 relatif à la période de sûreté sont applicables à l'infraction\n",
      "prévue par le présent article. Toutefois, lorsque la victime est un mineur de quinze ans et que l'assassinat est\n",
      "précédé ou accompagné d'un viol, de tortures ou d'actes de barbarie ou lorsque l'assassinat a été commis sur\n",
      "un magistrat, un fonctionnaire de la police nationale, un militaire de la gendarmerie, un membre du personnel\n",
      "de l'administration pénitentiaire ou toute autre personne dépositaire de l'autorité publique, à l'occasion de\n",
      "l'exercice ou en raison de ses fonctions, la cour d'assises peut, par décision spéciale, soit porter la période\n",
      "de sûreté jusqu'à trente ans, soit, si elle prononce la réclusion criminelle à perpétuité, décider qu'aucune des\n",
      "mesures énumérées à l'article 132-23 ne pourra être accordée au condamné ; en cas de commutation de la\n",
      "peine, et sauf si le décret de grâce en dispose autrement, la période de sûreté est alors égale à la durée de la\n",
      "peine résultant de la mesure de grâce.\n",
      "------\n",
      "Code pénal - Dernière modification le 01 avril 2023 - Document généré le 15 avril 2023Lorsque la victime de l'un des crimes prévus aux articles 224-1 à 224-4 est un mineur de quinze ans, la peine\n",
      "est portée à la réclusion criminelle à perpétuité si l'infraction est punie de trente ans de réclusion criminelle et\n",
      "à trente ans de réclusion criminelle si l'infraction est punie de vingt ans de réclusion criminelle.\n",
      " \n",
      " \n",
      "Les deux premiers alinéas de l'article 132-23 relatif à la période de sûreté sont applicables dans les cas\n",
      "prévus par le présent article.\n",
      "------\n",
      "Code pénal - Dernière modification le 01 avril 2023 - Document généré le 15 avril 2023 \n",
      " \n",
      "Le meurtre qui a pour objet soit de préparer ou de faciliter un délit, soit de favoriser la fuite ou d'assurer\n",
      "l'impunité de l'auteur ou du complice d'un délit est puni de la réclusion criminelle à perpétuité.\n",
      " \n",
      " \n",
      "Les deux premiers alinéas de l'article 132-23 relatif à la période de sûreté sont applicables aux infractions\n",
      "prévues par le présent article.\n",
      "------\n",
      "132-5\n",
      " \n",
      "Pour l'application des articles 132-3 et 132-4, les peines privatives de liberté sont de même nature et toute\n",
      "peine privative de liberté est confondue avec une peine perpétuelle.\n",
      " \n",
      " \n",
      "Il est tenu compte, s'il y a lieu, de l'état de récidive.\n",
      " \n",
      " \n",
      "Lorsque la réclusion criminelle à perpétuité, encourue pour l'une ou plusieurs des infractions en concours, n'a\n",
      "pas été prononcée, le maximum légal est fixé à trente ans de réclusion criminelle.\n",
      " \n",
      " \n",
      "Le maximum légal du montant et de la durée de la peine de jours-amende et celui de la peine de travail\n",
      "d'intérêt général sont fixés respectivement par les articles 131-5 et 131-8.\n",
      " \n",
      " \n",
      "Le bénéfice du sursis attaché en tout ou partie à l'une des peines prononcées pour des infractions en concours\n",
      "ne met pas obstacle à l'exécution des peines de même nature non assorties du sursis.\n",
      "------\n",
      "462-1\n",
      " \n",
      "Le maximum de la peine privative de liberté encourue pour les infractions mentionnées aux articles 461-2,\n",
      "461-6, 461-16 et 461-17 est relevé ainsi qu'il suit lorsque ces infractions constituent des crimes ou des délits\n",
      "de guerre :\n",
      " \n",
      "1° Il est porté à la réclusion criminelle à perpétuité lorsque l'infraction est punie de trente ans de réclusion\n",
      "criminelle ;\n",
      " \n",
      "2° Il est porté à trente ans de réclusion criminelle lorsque l'infraction est punie de vingt ans de réclusion\n",
      "criminelle ;\n",
      " \n",
      "3° Il est porté à vingt ans de réclusion criminelle lorsque l'infraction est punie de quinze ans de réclusion\n",
      "criminelle ;\n",
      "------\n",
      "132-76\n",
      " \n",
      "Lorsqu'un crime ou un délit est précédé, accompagné ou suivi de propos, écrits, images, objets ou actes\n",
      "de toute nature qui soit portent atteinte à l'honneur ou à la considération de la victime ou d'un groupe de\n",
      "personnes dont fait partie la victime à raison de son appartenance ou de sa non-appartenance, vraie ou\n",
      "supposée, à une prétendue race, une ethnie, une nation ou une religion déterminée, soit établissent que les\n",
      "faits ont été commis contre la victime pour l'une de ces raisons, le maximum de la peine privative de liberté\n",
      "encourue est relevé ainsi qu'il suit :\n",
      " \n",
      "1° Il est porté à la réclusion criminelle à perpétuité lorsque l'infraction est punie de trente ans de réclusion\n",
      "criminelle ;\n",
      " \n",
      "2° Il est porté à trente ans de réclusion criminelle lorsque l'infraction est punie de vingt ans de réclusion\n",
      "criminelle ;\n",
      " \n",
      "3° Il est porté à vingt ans de réclusion criminelle lorsque l'infraction est punie de quinze ans de réclusion\n",
      "criminelle ;\n",
      "------\n",
      "221-4\n",
      " \n",
      "Le meurtre est puni de la réclusion criminelle à perpétuité lorsqu'il est commis :\n",
      " \n",
      "1° Sur un mineur de quinze ans ;\n",
      " \n",
      "2° Sur un ascendant légitime ou naturel ou sur les père ou mère adoptifs ;\n",
      " \n",
      "3° Sur une personne dont la particulière vulnérabilité, due à son âge, à une maladie, à une infirmité, à une\n",
      "déficience physique ou psychique ou à un état de grossesse, est apparente ou connue de son auteur ;\n",
      " \n",
      "4° Sur un magistrat, un juré, un avocat, un officier public ou ministériel, un militaire de la gendarmerie\n",
      "nationale, un fonctionnaire de la police nationale, des douanes, de l'administration pénitentiaire ou toute\n",
      "autre personne dépositaire de l'autorité publique, un sapeur-pompier ou un marin-pompier, un gardien\n",
      "assermenté d'immeubles ou de groupes d'immeubles ou un agent exerçant pour le compte d'un bailleur des\n",
      "fonctions de gardiennage ou de surveillance des immeubles à usage d'habitation en application de l'article\n",
      "L. 271-1 du code de la sécurité intérieure, dans l'exercice ou du fait de ses fonctions, lorsque la qualité de la\n",
      "victime est apparente ou connue de l'auteur ;\n",
      " \n",
      "4° bis Sur un enseignant ou tout membre des personnels travaillant dans les établissements d'enseignement\n",
      "scolaire, sur un agent d'un exploitant de réseau de transport public de voyageurs ou toute personne chargée\n",
      "d'une mission de service public, ainsi que sur un professionnel de santé, dans l'exercice ou du fait de ses\n",
      "fonctions, lorsque la qualité de la victime est apparente ou connue de l'auteur ;\n",
      "------\n"
     ]
    }
   ],
   "source": [
    "query = \"Prison à perpétuité\"\n",
    "docs = vector_db.similarity_search(query, k=10)\n",
    "for doc in docs:\n",
    "    print(doc.page_content)\n",
    "    print(\"------\")"
   ]
  },
  {
   "cell_type": "markdown",
   "metadata": {},
   "source": [
    "## Questions / Réponses avec le code pénal"
   ]
  },
  {
   "cell_type": "markdown",
   "metadata": {},
   "source": [
    "### Prompt Template"
   ]
  },
  {
   "cell_type": "code",
   "execution_count": 17,
   "metadata": {},
   "outputs": [],
   "source": [
    "from langchain.prompts import PromptTemplate"
   ]
  },
  {
   "cell_type": "code",
   "execution_count": 18,
   "metadata": {},
   "outputs": [],
   "source": [
    "QA_PROMPT = PromptTemplate(\n",
    "    template=\"\"\"Voici des articles extraits du code pénal français : {text}\n",
    "À partir de ces articles répond à la question suivante : {question}\"\"\",\n",
    "    input_variables=[\"text\", \"question\"]\n",
    ")"
   ]
  },
  {
   "cell_type": "markdown",
   "metadata": {},
   "source": [
    "### Chargement du LLM"
   ]
  },
  {
   "cell_type": "code",
   "execution_count": 19,
   "metadata": {},
   "outputs": [],
   "source": [
    "from langchain.chat_models import ChatOpenAI"
   ]
  },
  {
   "cell_type": "code",
   "execution_count": 35,
   "metadata": {},
   "outputs": [],
   "source": [
    "llm = ChatOpenAI(openai_api_key=openai_api_key,model=\"gpt-4\",temperature=0)"
   ]
  },
  {
   "cell_type": "markdown",
   "metadata": {},
   "source": [
    "### Création de la chaîne"
   ]
  },
  {
   "cell_type": "code",
   "execution_count": 36,
   "metadata": {},
   "outputs": [],
   "source": [
    "from langchain.chains import RetrievalQA"
   ]
  },
  {
   "cell_type": "code",
   "execution_count": 37,
   "metadata": {},
   "outputs": [],
   "source": [
    "qa_chain = RetrievalQA.from_chain_type(\n",
    "    llm=llm,\n",
    "    retriever=vector_db.as_retriever(),\n",
    "    return_source_documents=True,\n",
    "    chain_type=\"stuff\",\n",
    ")"
   ]
  },
  {
   "cell_type": "markdown",
   "metadata": {},
   "source": [
    "### Utilisation"
   ]
  },
  {
   "cell_type": "code",
   "execution_count": 38,
   "metadata": {},
   "outputs": [
    {
     "name": "stdout",
     "output_type": "stream",
     "text": [
      "Selon le Code pénal, une condamnation à perpétuité peut être prononcée dans les cas suivants :\n",
      "\n",
      "1. Lorsqu'une personne physique, déjà condamnée définitivement pour un crime ou pour un délit puni de dix ans d'emprisonnement par la loi, commet un crime dont le maximum fixé par la loi est de vingt ou trente ans.\n",
      "\n",
      "2. L'infraction prévue à l'article 224-1 est punie de la réclusion criminelle à perpétuité lorsqu'elle est précédée ou accompagnée de tortures ou d'actes de barbarie ou lorsqu'elle est suivie de la mort de la victime.\n",
      "\n",
      "3. La provocation publique et directe, par tous moyens, à commettre un génocide est punie de la réclusion criminelle à perpétuité si cette provocation a été suivie d'effet.\n",
      "-------\n",
      "132-8\n",
      " \n",
      "Lorsqu'une personne physique, déjà condamnée définitivement pour un crime ou pour un délit puni de dix\n",
      "ans d'emprisonnement par la loi, commet un crime, le maximum de la peine de la réclusion criminelle ou de\n",
      "la détention criminelle est la perpétuité si le maximum fixé par la loi pour ce crime est de vingt ou trente ans.\n",
      "Le maximum de la peine est porté à trente ans de réclusion criminelle ou de détention criminelle si le crime\n",
      "est puni de quinze ans.\n",
      "None\n"
     ]
    }
   ],
   "source": [
    "question = \"Quels sont les conditions qui pourraient entraîner une condamnation à perpétuité?\"\n",
    "response = qa_chain({\"query\": question})\n",
    "print(response[\"result\"])\n",
    "print(\"-------\")\n",
    "print(print(response[\"source_documents\"][0].page_content))"
   ]
  },
  {
   "cell_type": "code",
   "execution_count": null,
   "metadata": {},
   "outputs": [],
   "source": []
  },
  {
   "cell_type": "code",
   "execution_count": null,
   "metadata": {},
   "outputs": [],
   "source": []
  }
 ],
 "metadata": {
  "kernelspec": {
   "display_name": ".venv",
   "language": "python",
   "name": "python3"
  },
  "language_info": {
   "codemirror_mode": {
    "name": "ipython",
    "version": 3
   },
   "file_extension": ".py",
   "mimetype": "text/x-python",
   "name": "python",
   "nbconvert_exporter": "python",
   "pygments_lexer": "ipython3",
   "version": "3.10.7"
  }
 },
 "nbformat": 4,
 "nbformat_minor": 2
}
